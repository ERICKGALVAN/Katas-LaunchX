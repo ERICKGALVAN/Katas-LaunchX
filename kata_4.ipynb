{
  "cells": [
    {
      "cell_type": "markdown",
      "source": [
        "Ejercicio 1"
      ],
      "metadata": {
        "id": "uX2HrjcFTvrd"
      }
    },
    {
      "cell_type": "code",
      "source": [
        "text = \"\"\"Interesting facts about the Moon. The Moon is Earth's only satellite. There are several interesting facts about the Moon and how it affects life here on Earth. On average, the Moon moves 4cm away from the Earth every year. This yearly drift is not significant enough to cause immediate effects on Earth.\"\"\"\n",
        "texto_nuevo = text.split('.')\n",
        "print(texto_nuevo)"
      ],
      "metadata": {
        "colab": {
          "base_uri": "https://localhost:8080/"
        },
        "id": "P89rpC95ucxe",
        "outputId": "4ab1cc2c-4dab-4978-d665-731f6263249d"
      },
      "execution_count": 15,
      "outputs": [
        {
          "output_type": "stream",
          "name": "stdout",
          "text": [
            "['Interesting facts about the Moon', \" The Moon is Earth's only satellite\", ' There are several interesting facts about the Moon and how it affects life here on Earth', ' On average, the Moon moves 4cm away from the Earth every year', ' This yearly drift is not significant enough to cause immediate effects on Earth', '']\n"
          ]
        }
      ]
    },
    {
      "cell_type": "code",
      "source": [
        "palabras = ['average', 'temperature', 'distance']\n",
        "for cadena in texto_nuevo:\n",
        "  for palabra in palabras:\n",
        "    if cadena.find(palabra)>=0:\n",
        "      print(cadena)"
      ],
      "metadata": {
        "colab": {
          "base_uri": "https://localhost:8080/"
        },
        "id": "bY99d7aPvcxF",
        "outputId": "d00d7158-bda3-4fdd-a634-cd3d7d3e6463"
      },
      "execution_count": 34,
      "outputs": [
        {
          "output_type": "stream",
          "name": "stdout",
          "text": [
            " There are several interesting facts about the Moon and how it affects life here on Earth\n",
            " On average, the Moon moves 4cm away from the Earth every year\n"
          ]
        }
      ]
    },
    {
      "cell_type": "markdown",
      "source": [
        "Ejercicio 2"
      ],
      "metadata": {
        "id": "iogu44W1Ts-f"
      }
    },
    {
      "cell_type": "code",
      "source": [
        "for cadena in texto_nuevo:\n",
        "  for palabra in palabras:\n",
        "    if palabra in cadena:\n",
        "      print(cadena.replace('C', 'Celsius'))\n",
        "      "
      ],
      "metadata": {
        "colab": {
          "base_uri": "https://localhost:8080/"
        },
        "id": "fwYcYyFFSR_r",
        "outputId": "b1bc3de1-4c8b-482b-9d3c-5be520fafd01"
      },
      "execution_count": 59,
      "outputs": [
        {
          "output_type": "stream",
          "name": "stdout",
          "text": [
            " There are several interesting facts about the Moon and how it affects life here on Earth\n",
            " On average, the Moon moves 4cm away from the Earth every year\n"
          ]
        }
      ]
    },
    {
      "cell_type": "markdown",
      "source": [
        "Ejercicio 3"
      ],
      "metadata": {
        "id": "PDnhUUOLT0g7"
      }
    },
    {
      "cell_type": "code",
      "source": [
        "titulo = 'La gravedad: entre la tierra y la luna'\n",
        "gravedad =0.00143\n",
        "planeta = 'Marte'\n",
        "formato = f'{titulo}\\n***************************************************\\nNombre del planeta: {planeta}\\nGravedad en {planeta}: {gravedad*1000}ms'\n",
        "print(formato)\n"
      ],
      "metadata": {
        "colab": {
          "base_uri": "https://localhost:8080/"
        },
        "id": "51cHiK-kT7Sj",
        "outputId": "8a50aa71-91db-4745-f859-e9de74d683a0"
      },
      "execution_count": 64,
      "outputs": [
        {
          "output_type": "stream",
          "name": "stdout",
          "text": [
            "La gravedad: entre la tierra y la luna\n",
            "***************************************************\n",
            "Nombre del planeta: Marte\n",
            "Gravedad en Marte: 1.4300000000000002ms\n"
          ]
        }
      ]
    }
  ],
  "metadata": {
    "colab": {
      "name": "kata_4.ipynb",
      "provenance": [],
      "collapsed_sections": []
    },
    "kernelspec": {
      "display_name": "Python 3",
      "name": "python3"
    },
    "language_info": {
      "name": "python"
    }
  },
  "nbformat": 4,
  "nbformat_minor": 0
}