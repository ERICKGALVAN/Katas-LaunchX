{
  "nbformat": 4,
  "nbformat_minor": 0,
  "metadata": {
    "colab": {
      "name": "Kata_8.ipynb",
      "provenance": [],
      "collapsed_sections": []
    },
    "kernelspec": {
      "name": "python3",
      "display_name": "Python 3"
    },
    "language_info": {
      "name": "python"
    }
  },
  "cells": [
    {
      "cell_type": "code",
      "source": [
        "planet = {\n",
        "    'name':'Mars',\n",
        "    'moons':2\n",
        "}\n",
        "print('Nombre del planeta: ', planet['name'])\n",
        "print('Numero de lunas: ', planet['moons'])"
      ],
      "metadata": {
        "colab": {
          "base_uri": "https://localhost:8080/"
        },
        "id": "tRBDueZznjN9",
        "outputId": "1e1519be-6445-41a9-d328-e7495aa8b210"
      },
      "execution_count": 32,
      "outputs": [
        {
          "output_type": "stream",
          "name": "stdout",
          "text": [
            "Nombre del planeta:  Mars\n",
            "Numero de lunas:  2\n"
          ]
        }
      ]
    },
    {
      "cell_type": "code",
      "source": [
        "circunferencia = {\n",
        "    'polar':6752,\n",
        "    'equatorial':6792\n",
        "}\n",
        "planet['circunferencia'] = circunferencia\n",
        "print('Nombre: ', planet['name'])\n",
        "print('Circunferencia polar: ', planet['circunferencia']['polar'])"
      ],
      "metadata": {
        "colab": {
          "base_uri": "https://localhost:8080/"
        },
        "id": "9EdpYw6co1or",
        "outputId": "adbc5395-956d-4662-e84f-cfb152b1fd73"
      },
      "execution_count": 36,
      "outputs": [
        {
          "output_type": "stream",
          "name": "stdout",
          "text": [
            "Nombre:  Mars\n",
            "Circunferencia polar:  6752\n"
          ]
        }
      ]
    },
    {
      "cell_type": "code",
      "source": [
        "planet_moons = {\n",
        "    'mercury': 0,\n",
        "    'venus': 0,\n",
        "    'earth': 1,\n",
        "    'mars': 2,\n",
        "    'jupiter': 79,\n",
        "    'saturn': 82,\n",
        "    'uranus': 27,\n",
        "    'neptune': 14,\n",
        "    'pluto': 5,\n",
        "    'haumea': 2,\n",
        "    'makemake': 1,\n",
        "    'eris': 1\n",
        "}\n",
        "moons = planet_moons.values()\n",
        "total_moons = 0\n",
        "for luna in moons:\n",
        "  total_moons += luna\n",
        "print('Total de lunas: ', total_moons)\n",
        "\n",
        "planets = len(planet_moons.keys())\n",
        "print('Total de planetas: ', planets)\n",
        "\n",
        "print('Promedio de lunas por planeta: ', total_lunas/planets)"
      ],
      "metadata": {
        "colab": {
          "base_uri": "https://localhost:8080/"
        },
        "id": "uFwvmZiVyYjw",
        "outputId": "9bded965-fc68-4f7a-c89d-262694f82874"
      },
      "execution_count": 47,
      "outputs": [
        {
          "output_type": "stream",
          "name": "stdout",
          "text": [
            "Total de lunas:  214\n",
            "Total de planetas:  12\n",
            "Promedio de lunas por planeta:  17.833333333333332\n"
          ]
        }
      ]
    }
  ]
}