{
  "nbformat": 4,
  "nbformat_minor": 0,
  "metadata": {
    "colab": {
      "name": "Kata_7.ipynb",
      "provenance": [],
      "collapsed_sections": []
    },
    "kernelspec": {
      "name": "python3",
      "display_name": "Python 3"
    },
    "language_info": {
      "name": "python"
    }
  },
  "cells": [
    {
      "cell_type": "code",
      "source": [
        "new_planet = input('Nuevo planeta: ')\n",
        "planets = []\n",
        "\n",
        "while(new_planet!='done'):\n",
        "    if new_planet:\n",
        "      planets.append(new_planet)\n",
        "    print(planets)\n",
        "    new_planet = input('Nuevo planeta: (Escriba done para salir)')\n",
        "print('Termina el ciclo')"
      ],
      "metadata": {
        "colab": {
          "base_uri": "https://localhost:8080/"
        },
        "id": "ZAGLv6dNVYTF",
        "outputId": "4668ea4d-1d02-4cd6-9613-5e0a68f2d8d8"
      },
      "execution_count": 30,
      "outputs": [
        {
          "output_type": "stream",
          "name": "stdout",
          "text": [
            "Nuevo planeta: Jupiter\n",
            "['Jupiter']\n",
            "Nuevo planeta: (Escriba done para salir)Urano\n",
            "['Jupiter', 'Urano']\n",
            "Nuevo planeta: (Escriba done para salir)Pluton\n",
            "['Jupiter', 'Urano', 'Pluton']\n",
            "Nuevo planeta: (Escriba done para salir)done\n",
            "Termina el ciclo\n"
          ]
        }
      ]
    },
    {
      "cell_type": "code",
      "source": [
        "for planet in planets:\n",
        "  print(planet)"
      ],
      "metadata": {
        "colab": {
          "base_uri": "https://localhost:8080/"
        },
        "id": "vyeyVo2Dje_A",
        "outputId": "05b8e466-f249-4639-ae64-053c3e5ef3fa"
      },
      "execution_count": 31,
      "outputs": [
        {
          "output_type": "stream",
          "name": "stdout",
          "text": [
            "Jupiter\n",
            "Urano\n",
            "Pluton\n"
          ]
        }
      ]
    }
  ]
}