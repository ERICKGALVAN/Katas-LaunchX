{
  "cells": [
    {
      "cell_type": "code",
      "execution_count": 3,
      "metadata": {
        "colab": {
          "base_uri": "https://localhost:8080/"
        },
        "id": "PTF2NickuVYI",
        "outputId": "821dc350-6727-4358-ff73-8deac97d0b76"
      },
      "outputs": [
        {
          "output_type": "stream",
          "name": "stdout",
          "text": [
            "La fecha de hoy es  2022-02-10\n"
          ]
        }
      ],
      "source": [
        "from datetime import date\n",
        "\n",
        "print('La fecha de hoy es ', str(date.today()))"
      ]
    },
    {
      "cell_type": "code",
      "source": [
        "parsec = int(input('Cantidad de parsec: '))\n",
        "print(parsec, 'es igual a ', parsec*3.26156, 'años luz')"
      ],
      "metadata": {
        "colab": {
          "base_uri": "https://localhost:8080/"
        },
        "id": "6f3FQXFL23TL",
        "outputId": "1b9a3062-25a1-4f66-93d8-06f36ea60eb1"
      },
      "execution_count": 7,
      "outputs": [
        {
          "output_type": "stream",
          "name": "stdout",
          "text": [
            "Cantidad de parsec: 4\n",
            "4 es igual a  13.04624 años luz\n"
          ]
        }
      ]
    }
  ],
  "metadata": {
    "colab": {
      "name": "kata_1.ipynb",
      "provenance": [],
      "collapsed_sections": []
    },
    "kernelspec": {
      "display_name": "Python 3",
      "name": "python3"
    },
    "language_info": {
      "name": "python"
    }
  },
  "nbformat": 4,
  "nbformat_minor": 0
}