{
  "nbformat": 4,
  "nbformat_minor": 0,
  "metadata": {
    "colab": {
      "name": "kata_0.ipynb",
      "provenance": []
    },
    "kernelspec": {
      "name": "python3",
      "display_name": "Python 3"
    },
    "language_info": {
      "name": "python"
    },
    "widgets": {
      "application/vnd.jupyter.widget-state+json": {
        "3e88a8208d134d8eac058027ea428519": {
          "model_module": "@jupyter-widgets/controls",
          "model_name": "ToggleButtonModel",
          "model_module_version": "1.5.0",
          "state": {
            "_view_name": "ToggleButtonView",
            "style": "IPY_MODEL_b2a91eafff2c46cc8be93c7b917fafe5",
            "_dom_classes": [],
            "description": "Iniciar Launch",
            "_model_name": "ToggleButtonModel",
            "button_style": "success",
            "_view_module": "@jupyter-widgets/controls",
            "_model_module_version": "1.5.0",
            "tooltip": "Engage your Launch",
            "_view_count": null,
            "disabled": false,
            "_view_module_version": "1.5.0",
            "value": true,
            "description_tooltip": null,
            "_model_module": "@jupyter-widgets/controls",
            "layout": "IPY_MODEL_b532dfc3c3f34d6f8d9bd284d9b58100",
            "icon": "rocket"
          }
        },
        "b2a91eafff2c46cc8be93c7b917fafe5": {
          "model_module": "@jupyter-widgets/controls",
          "model_name": "DescriptionStyleModel",
          "model_module_version": "1.5.0",
          "state": {
            "_view_name": "StyleView",
            "_model_name": "DescriptionStyleModel",
            "description_width": "",
            "_view_module": "@jupyter-widgets/base",
            "_model_module_version": "1.5.0",
            "_view_count": null,
            "_view_module_version": "1.2.0",
            "_model_module": "@jupyter-widgets/controls"
          }
        },
        "b532dfc3c3f34d6f8d9bd284d9b58100": {
          "model_module": "@jupyter-widgets/base",
          "model_name": "LayoutModel",
          "model_module_version": "1.2.0",
          "state": {
            "_view_name": "LayoutView",
            "grid_template_rows": null,
            "right": null,
            "justify_content": null,
            "_view_module": "@jupyter-widgets/base",
            "overflow": null,
            "_model_module_version": "1.2.0",
            "_view_count": null,
            "flex_flow": null,
            "width": null,
            "min_width": null,
            "border": null,
            "align_items": null,
            "bottom": null,
            "_model_module": "@jupyter-widgets/base",
            "top": null,
            "grid_column": null,
            "overflow_y": null,
            "overflow_x": null,
            "grid_auto_flow": null,
            "grid_area": null,
            "grid_template_columns": null,
            "flex": null,
            "_model_name": "LayoutModel",
            "justify_items": null,
            "grid_row": null,
            "max_height": null,
            "align_content": null,
            "visibility": null,
            "align_self": null,
            "height": null,
            "min_height": null,
            "padding": null,
            "grid_auto_rows": null,
            "grid_gap": null,
            "max_width": null,
            "order": null,
            "_view_module_version": "1.2.0",
            "grid_template_areas": null,
            "object_position": null,
            "object_fit": null,
            "grid_auto_columns": null,
            "margin": null,
            "display": null,
            "left": null
          }
        },
        "edff8449942a41b79e521d0bdcfe7daa": {
          "model_module": "@jupyter-widgets/output",
          "model_name": "OutputModel",
          "model_module_version": "1.0.0",
          "state": {
            "_view_name": "OutputView",
            "msg_id": "",
            "_dom_classes": [],
            "_model_name": "OutputModel",
            "outputs": [
              {
                "output_type": "stream",
                "name": "stdout",
                "text": [
                  "Nave Iniciada!\n"
                ]
              },
              {
                "output_type": "stream",
                "name": "stdout",
                "text": [
                  "Nave Detenida\n"
                ]
              },
              {
                "output_type": "stream",
                "name": "stdout",
                "text": [
                  "Nave Iniciada!\n"
                ]
              }
            ],
            "_view_module": "@jupyter-widgets/output",
            "_model_module_version": "1.0.0",
            "_view_count": null,
            "_view_module_version": "1.0.0",
            "layout": "IPY_MODEL_24f372f190b74281a654f970a2eab9f5",
            "_model_module": "@jupyter-widgets/output"
          }
        },
        "24f372f190b74281a654f970a2eab9f5": {
          "model_module": "@jupyter-widgets/base",
          "model_name": "LayoutModel",
          "model_module_version": "1.2.0",
          "state": {
            "_view_name": "LayoutView",
            "grid_template_rows": null,
            "right": null,
            "justify_content": null,
            "_view_module": "@jupyter-widgets/base",
            "overflow": null,
            "_model_module_version": "1.2.0",
            "_view_count": null,
            "flex_flow": null,
            "width": null,
            "min_width": null,
            "border": null,
            "align_items": null,
            "bottom": null,
            "_model_module": "@jupyter-widgets/base",
            "top": null,
            "grid_column": null,
            "overflow_y": null,
            "overflow_x": null,
            "grid_auto_flow": null,
            "grid_area": null,
            "grid_template_columns": null,
            "flex": null,
            "_model_name": "LayoutModel",
            "justify_items": null,
            "grid_row": null,
            "max_height": null,
            "align_content": null,
            "visibility": null,
            "align_self": null,
            "height": null,
            "min_height": null,
            "padding": null,
            "grid_auto_rows": null,
            "grid_gap": null,
            "max_width": null,
            "order": null,
            "_view_module_version": "1.2.0",
            "grid_template_areas": null,
            "object_position": null,
            "object_fit": null,
            "grid_auto_columns": null,
            "margin": null,
            "display": null,
            "left": null
          }
        }
      }
    }
  },
  "cells": [
    {
      "cell_type": "markdown",
      "source": [
        "#Manual de la nave"
      ],
      "metadata": {
        "id": "VVmfDHysmxHF"
      }
    },
    {
      "cell_type": "code",
      "source": [
        "import ipywidgets as widgets\n",
        "\n",
        "ignition = widgets.ToggleButton(\n",
        "    value=False,\n",
        "    description='Iniciar Launch',\n",
        "    button_style='success',\n",
        "    tooltip='Engage your Launch',\n",
        "    icon='rocket'\n",
        ")\n",
        "\n",
        "output = widgets.Output()\n",
        "\n",
        "display(ignition, output)\n",
        "\n",
        "def on_value_change(change):\n",
        "    with output:\n",
        "        if change['new'] == True:\n",
        "            print(\"Nave Iniciada!\")\n",
        "        else:   \n",
        "            print(\"Nave Detenida\")\n",
        "\n",
        "ignition.observe(on_value_change, names='value')"
      ],
      "metadata": {
        "colab": {
          "base_uri": "https://localhost:8080/",
          "height": 101,
          "referenced_widgets": [
            "3e88a8208d134d8eac058027ea428519",
            "b2a91eafff2c46cc8be93c7b917fafe5",
            "b532dfc3c3f34d6f8d9bd284d9b58100",
            "edff8449942a41b79e521d0bdcfe7daa",
            "24f372f190b74281a654f970a2eab9f5"
          ]
        },
        "id": "LRCgwWPom0d6",
        "outputId": "a7efe414-c0f0-432d-bc06-ce4cbb768ec9"
      },
      "execution_count": 2,
      "outputs": [
        {
          "output_type": "display_data",
          "data": {
            "application/vnd.jupyter.widget-view+json": {
              "model_id": "3e88a8208d134d8eac058027ea428519",
              "version_minor": 0,
              "version_major": 2
            },
            "text/plain": [
              "ToggleButton(value=False, button_style='success', description='Iniciar Launch', icon='rocket', tooltip='Engage…"
            ]
          },
          "metadata": {}
        },
        {
          "output_type": "display_data",
          "data": {
            "application/vnd.jupyter.widget-view+json": {
              "model_id": "edff8449942a41b79e521d0bdcfe7daa",
              "version_minor": 0,
              "version_major": 2
            },
            "text/plain": [
              "Output()"
            ]
          },
          "metadata": {}
        }
      ]
    },
    {
      "cell_type": "markdown",
      "source": [
        "## Niveles de Oxígeno\n",
        "\n",
        "Muestra diez minutos de niveles de oxígeno en tu nave."
      ],
      "metadata": {
        "id": "Y2uFhhpvoBSm"
      }
    },
    {
      "cell_type": "code",
      "source": [
        "import numpy as np\n",
        "import matplotlib.pyplot as plt\n",
        "data = np.random.default_rng(12345)\n",
        "oxy_nums = data.integers(low=0, high=10, size=10)\n",
        "\n",
        "plt.bar(range(len(oxy_nums)), oxy_nums)\n",
        "plt.show()"
      ],
      "metadata": {
        "colab": {
          "base_uri": "https://localhost:8080/",
          "height": 265
        },
        "id": "fR-x2DWkoHlK",
        "outputId": "d0cd6281-1d02-468e-d503-8039827b0898"
      },
      "execution_count": 3,
      "outputs": [
        {
          "output_type": "display_data",
          "data": {
            "image/png": "[encoded data removed]",
            "text/plain": [
              "<Figure size 432x288 with 1 Axes>"
            ]
          },
          "metadata": {
            "needs_background": "light"
          }
        }
      ]
    },
    {
      "cell_type": "markdown",
      "source": [
        "## Velocidad de la nave\n",
        "\n",
        "Muestra los segundos necesarios para pasar de 0 a 11200 metros por segundo, dada la aceleración de la nave en metros por segundo."
      ],
      "metadata": {
        "id": "9DMKRK4yqQyG"
      }
    },
    {
      "cell_type": "code",
      "source": [
        "endVelocity = 11200\n",
        "startVelocity = 0\n",
        "acceleration = 9.8\n",
        "\n",
        "time = (endVelocity - startVelocity) / acceleration\n",
        "print(\"Tiempo para alcanzar la velocidad deseada = \", time)"
      ],
      "metadata": {
        "colab": {
          "base_uri": "https://localhost:8080/"
        },
        "id": "XeJOMG_mqRiP",
        "outputId": "1b9a1500-563c-40db-e4fc-19a167f7c505"
      },
      "execution_count": 4,
      "outputs": [
        {
          "output_type": "stream",
          "name": "stdout",
          "text": [
            "Tiempo para alcanzar la velocidad deseada =  1142.8571428571427\n"
          ]
        }
      ]
    }
  ]
}