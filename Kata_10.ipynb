{
  "nbformat": 4,
  "nbformat_minor": 0,
  "metadata": {
    "colab": {
      "name": "Kata_10.ipynb",
      "provenance": [],
      "collapsed_sections": []
    },
    "kernelspec": {
      "name": "python3",
      "display_name": "Python 3"
    },
    "language_info": {
      "name": "python"
    }
  },
  "cells": [
    {
      "cell_type": "code",
      "source": [
        "def main():\n",
        "    try:\n",
        "        configuration = open('config.txt')\n",
        "    except FileNotFoundError:\n",
        "        print(\"No se encontró el archivo\")\n",
        "    except IsADirectoryError:\n",
        "        print(\"No se puede leer el archivo\")"
      ],
      "metadata": {
        "id": "OO7pE1P4WezZ"
      },
      "execution_count": null,
      "outputs": []
    },
    {
      "cell_type": "code",
      "source": [
        "def agua_restante(astronautas, agua, dias):\n",
        "    uso_diario = astronautas * 11\n",
        "    uso_total = uso_diario * dias\n",
        "    total_agua = agua - uso_total\n",
        "    if total_agua < 0:\n",
        "        raise RuntimeError(f\"No hay suficiente agua para {astronautas} astronautas despues de  {dias} dias\")\n",
        "    return f\"El agua que queda despues de {dias} dias es: {total_agua} litros\"\n",
        "\n",
        "agua_restante(5, 100, 2)\n"
      ],
      "metadata": {
        "colab": {
          "base_uri": "https://localhost:8080/",
          "height": 322
        },
        "id": "tDLMKbR0Xsq_",
        "outputId": "ce3bde78-7c62-4cf1-80c2-e09370d32092"
      },
      "execution_count": 18,
      "outputs": [
        {
          "output_type": "error",
          "ename": "RuntimeError",
          "evalue": "ignored",
          "traceback": [
            "\u001b[0;31m---------------------------------------------------------------------------\u001b[0m",
            "\u001b[0;31mRuntimeError\u001b[0m                              Traceback (most recent call last)",
            "\u001b[0;32m<ipython-input-18-5fc98fc2bd76>\u001b[0m in \u001b[0;36m<module>\u001b[0;34m()\u001b[0m\n\u001b[1;32m      7\u001b[0m     \u001b[0;32mreturn\u001b[0m \u001b[0;34mf\"El agua que queda despues de {dias} dias es: {total_agua} litros\"\u001b[0m\u001b[0;34m\u001b[0m\u001b[0;34m\u001b[0m\u001b[0m\n\u001b[1;32m      8\u001b[0m \u001b[0;34m\u001b[0m\u001b[0m\n\u001b[0;32m----> 9\u001b[0;31m \u001b[0magua_restante\u001b[0m\u001b[0;34m(\u001b[0m\u001b[0;36m5\u001b[0m\u001b[0;34m,\u001b[0m \u001b[0;36m100\u001b[0m\u001b[0;34m,\u001b[0m \u001b[0;36m2\u001b[0m\u001b[0;34m)\u001b[0m\u001b[0;34m\u001b[0m\u001b[0;34m\u001b[0m\u001b[0m\n\u001b[0m",
            "\u001b[0;32m<ipython-input-18-5fc98fc2bd76>\u001b[0m in \u001b[0;36magua_restante\u001b[0;34m(astronautas, agua, dias)\u001b[0m\n\u001b[1;32m      4\u001b[0m     \u001b[0mtotal_agua\u001b[0m \u001b[0;34m=\u001b[0m \u001b[0magua\u001b[0m \u001b[0;34m-\u001b[0m \u001b[0muso_total\u001b[0m\u001b[0;34m\u001b[0m\u001b[0;34m\u001b[0m\u001b[0m\n\u001b[1;32m      5\u001b[0m     \u001b[0;32mif\u001b[0m \u001b[0mtotal_agua\u001b[0m \u001b[0;34m<\u001b[0m \u001b[0;36m0\u001b[0m\u001b[0;34m:\u001b[0m\u001b[0;34m\u001b[0m\u001b[0;34m\u001b[0m\u001b[0m\n\u001b[0;32m----> 6\u001b[0;31m         \u001b[0;32mraise\u001b[0m \u001b[0mRuntimeError\u001b[0m\u001b[0;34m(\u001b[0m\u001b[0;34mf\"No hay suficiente agua para {astronautas} astronautas despues de  {dias} dias\"\u001b[0m\u001b[0;34m)\u001b[0m\u001b[0;34m\u001b[0m\u001b[0;34m\u001b[0m\u001b[0m\n\u001b[0m\u001b[1;32m      7\u001b[0m     \u001b[0;32mreturn\u001b[0m \u001b[0;34mf\"El agua que queda despues de {dias} dias es: {total_agua} litros\"\u001b[0m\u001b[0;34m\u001b[0m\u001b[0;34m\u001b[0m\u001b[0m\n\u001b[1;32m      8\u001b[0m \u001b[0;34m\u001b[0m\u001b[0m\n",
            "\u001b[0;31mRuntimeError\u001b[0m: No hay suficiente agua para 5 astronautas despues de  2 dias"
          ]
        }
      ]
    }
  ]
}