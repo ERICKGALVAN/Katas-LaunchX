{
  "cells": [
    {
      "cell_type": "markdown",
      "source": [
        "Ejercicio 1"
      ],
      "metadata": {
        "id": "uX2HrjcFTvrd"
      }
    },
    {
      "cell_type": "code",
      "source": [
        "planeta1 = int(input('Planeta 1: '))\n",
        "planeta2 = int(input('Planeta 2: '))\n",
        "if planeta1>planeta2:\n",
        "  distancia = planeta1-planeta2\n",
        "else:\n",
        "  distancia = planeta2-planeta1\n",
        "print(f'La distancia es {distancia}')\n",
        "print(f'La distancia es millas es {distancia*0.621}')"
      ],
      "metadata": {
        "colab": {
          "base_uri": "https://localhost:8080/"
        },
        "id": "uVhaNLpnY42B",
        "outputId": "053a5472-0505-431c-8504-f52dcbb75794"
      },
      "execution_count": 65,
      "outputs": [
        {
          "output_type": "stream",
          "name": "stdout",
          "text": [
            "Planeta 1: 149597870\n",
            "Planeta 2: 778547200\n",
            "La distancia es millas es 390577533.93\n"
          ]
        }
      ]
    },
    {
      "cell_type": "markdown",
      "source": [
        "Ejercicio 2"
      ],
      "metadata": {
        "id": "uCSxJA05aCzd"
      }
    },
    {
      "cell_type": "code",
      "source": [
        "distancia1 = int(input('Distancia al sol del planeta 1: '))\n",
        "distancia2 = int(input('Distancia al sol del planeta 2: '))\n",
        "distancia = abs(distancia1 - distancia2)\n",
        "print(f'Distancia en km: {distancia}')\n",
        "print(f'Distancia en millas: {distancia*0.61}')"
      ],
      "metadata": {
        "colab": {
          "base_uri": "https://localhost:8080/"
        },
        "id": "zSxw9Ub8aD0g",
        "outputId": "350e2019-abdf-4ec3-bc25-12559d70d3ff"
      },
      "execution_count": 66,
      "outputs": [
        {
          "output_type": "stream",
          "name": "stdout",
          "text": [
            "Distancia al sol del planeta 1: 348494\n",
            "Distancia al sol del planeta 2: 5356\n",
            "Distancia en km: 343138\n",
            "Distancia en millas: 209314.18\n"
          ]
        }
      ]
    }
  ],
  "metadata": {
    "colab": {
      "name": "kata_5.ipynb",
      "provenance": [],
      "collapsed_sections": []
    },
    "kernelspec": {
      "display_name": "Python 3",
      "name": "python3"
    },
    "language_info": {
      "name": "python"
    }
  },
  "nbformat": 4,
  "nbformat_minor": 0
}