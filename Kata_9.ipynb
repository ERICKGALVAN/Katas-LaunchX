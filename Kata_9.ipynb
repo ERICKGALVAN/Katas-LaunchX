{
  "nbformat": 4,
  "nbformat_minor": 0,
  "metadata": {
    "colab": {
      "name": "Kata_9.ipynb",
      "provenance": [],
      "collapsed_sections": []
    },
    "kernelspec": {
      "name": "python3",
      "display_name": "Python 3"
    },
    "language_info": {
      "name": "python"
    }
  },
  "cells": [
    {
      "cell_type": "code",
      "source": [
        "def formato(tanque1, tanque2, tanque3):\n",
        "  prom = promedio(tanque1, tanque2, tanque3)\n",
        "  return f'Promedio: {prom} Tanque 1:\\n{tanque1}\\nTanque 2:{tanque2}\\nTanque 3:{tanque3}'\n",
        "\n",
        "def promedio(tanque1, tanque2, tanque3):\n",
        "  return(tanque1+tanque2+tanque3)/3\n",
        "\n",
        "formato(34,65,23)"
      ],
      "metadata": {
        "colab": {
          "base_uri": "https://localhost:8080/",
          "height": 35
        },
        "id": "hUUNofrDF1eS",
        "outputId": "70ad4657-fc16-4bcf-fe4b-0de65c942198"
      },
      "execution_count": 11,
      "outputs": [
        {
          "output_type": "execute_result",
          "data": {
            "application/vnd.google.colaboratory.intrinsic+json": {
              "type": "string"
            },
            "text/plain": [
              "'Promedio: 40.666666666666664\\n Tanque 1:\\n34\\nTanque 2:65\\nTanque 3:23'"
            ]
          },
          "metadata": {},
          "execution_count": 11
        }
      ]
    },
    {
      "cell_type": "code",
      "source": [
        "def informe_mision(hora, destino, *tiempo_vuelo, **tanques):\n",
        "  for llave, valor in tanques.items():\n",
        "    print('Tanque ', llave, ': ', valor, 'litros restantes')\n",
        "  return f'Hora: {hora}, Tiempo de vuelo: {sum(tiempo_vuelo)}, Destino: {destino}, Tanque total: {sum(tanques.values())}'\n",
        "  \n",
        "\n",
        "informe_mision(7, 'Monaco', 7, 89, 70, externo=67, interno=32)"
      ],
      "metadata": {
        "colab": {
          "base_uri": "https://localhost:8080/",
          "height": 70
        },
        "id": "rag2o_4lHBJA",
        "outputId": "bdacf0a1-d096-4aaf-e00d-ca21c0f871fb"
      },
      "execution_count": 17,
      "outputs": [
        {
          "output_type": "stream",
          "name": "stdout",
          "text": [
            "Tanque  externo :  67 litros restantes\n",
            "Tanque  interno :  32 litros restantes\n"
          ]
        },
        {
          "output_type": "execute_result",
          "data": {
            "application/vnd.google.colaboratory.intrinsic+json": {
              "type": "string"
            },
            "text/plain": [
              "'Hora: 7, Tiempo de vuelo: 166, Destino: Monaco, Tanque total: 99'"
            ]
          },
          "metadata": {},
          "execution_count": 17
        }
      ]
    }
  ]
}