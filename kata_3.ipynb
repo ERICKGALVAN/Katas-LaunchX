{
  "cells": [
    {
      "cell_type": "markdown",
      "source": [
        "# Añadir el código necesario para crear una variable que guarde la velocidad del asteroide.\n",
        "# Escribe una expresión de prueba para calcular si necesita una advertencia.\n",
        "# Agregue las instrucciones que se ejecutarán si la expresión de prueba es true o false."
      ],
      "metadata": {
        "id": "83cS1npyl_Z4"
      }
    },
    {
      "cell_type": "code",
      "source": [
        "velocidad = 49\n",
        "if velocidad > 25:\n",
        "  print('El asteroide se acerca a gran velocidad')\n",
        "else:\n",
        "  print('No hay de que preocuparse')"
      ],
      "metadata": {
        "colab": {
          "base_uri": "https://localhost:8080/"
        },
        "id": "Q7AAwu5Ql-tO",
        "outputId": "edf54b7a-a1f0-4968-f7eb-fa6c88efcb56"
      },
      "execution_count": 1,
      "outputs": [
        {
          "output_type": "stream",
          "name": "stdout",
          "text": [
            "El asteroide se acerca a gran velocidad\n"
          ]
        }
      ]
    },
    {
      "cell_type": "markdown",
      "source": [
        "# Agrega el código para crear una variable para un asteroide que viaja a 19 km/s\n",
        "# Escribe varias expresiones de prueba para determinar si puedes ver el rayo de luz desde la tierra\n",
        "# Agrega las instrucciones que se ejecutarán si las expresiones de prueba son True o False"
      ],
      "metadata": {
        "id": "aT65NiDtmv9d"
      }
    },
    {
      "cell_type": "code",
      "source": [
        "velocidad = 19\n",
        "if velocidad > 20:\n",
        "  print('El asteroide es visible desde la tierra')\n",
        "elif velocidad == 20:\n",
        "  print('EL asteroide es visible desde la tierra')\n",
        "else:\n",
        "  print('El asteroide no se puede ver desde la tierra')\n"
      ],
      "metadata": {
        "colab": {
          "base_uri": "https://localhost:8080/"
        },
        "id": "2IeQeRMKmw7H",
        "outputId": "e9dd16ae-6545-4690-f75e-9fea063e9d5c"
      },
      "execution_count": 2,
      "outputs": [
        {
          "output_type": "stream",
          "name": "stdout",
          "text": [
            "El asteroide no se puede ver desde la tierra\n"
          ]
        }
      ]
    },
    {
      "cell_type": "markdown",
      "source": [
        "# Agrega el código para crear nuevas variables para la velocidad y el tamaño del asteroide\n",
        "# Para probar el código, prueba con varias velocidades y tamaños\n",
        "# Escribe varias expresiones de prueba o combinaciones de expresiones de prueba para determinar qué mensaje se debe enviar a Tierra."
      ],
      "metadata": {
        "id": "wnUN1Cewn1fe"
      }
    },
    {
      "cell_type": "code",
      "source": [
        "tam = int(input('Tamaño del asteroide: '))\n",
        "vel = int(input('Velocidad del asteroide: '))\n",
        "if vel >= 20:\n",
        "  print('Se puede ver desde la tierra')\n",
        "  if vel > 25:\n",
        "    print('Advertencia de asteroide')\n",
        "else:\n",
        "  print('El asteroide se quemara antes de llegar a la tierra')\n",
        "\n",
        "if tam>25 and tam<1000:\n",
        "  print('EL asteroide causará mucho daño')"
      ],
      "metadata": {
        "colab": {
          "base_uri": "https://localhost:8080/"
        },
        "id": "QS1gM3uYn2SI",
        "outputId": "885be0f2-aa50-4c0d-fe8d-12b1987be4e4"
      },
      "execution_count": 3,
      "outputs": [
        {
          "output_type": "stream",
          "name": "stdout",
          "text": [
            "Tamaño del asteroide: 27\n",
            "Velocidad del asteroide: 34\n",
            "Se puede ver desde la tierra\n",
            "Cuidado con el asteroide\n",
            "EL asteroide causará mucho daño\n"
          ]
        }
      ]
    }
  ],
  "metadata": {
    "colab": {
      "name": "kata_3.ipynb",
      "provenance": [],
      "collapsed_sections": []
    },
    "kernelspec": {
      "display_name": "Python 3",
      "name": "python3"
    },
    "language_info": {
      "name": "python"
    }
  },
  "nbformat": 4,
  "nbformat_minor": 0
}