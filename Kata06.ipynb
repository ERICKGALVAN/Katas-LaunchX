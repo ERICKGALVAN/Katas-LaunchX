{
  "nbformat": 4,
  "nbformat_minor": 0,
  "metadata": {
    "colab": {
      "name": "Kata06.ipynb",
      "provenance": [],
      "collapsed_sections": []
    },
    "kernelspec": {
      "name": "python3",
      "display_name": "Python 3"
    },
    "language_info": {
      "name": "python"
    }
  },
  "cells": [
    {
      "cell_type": "code",
      "execution_count": 13,
      "metadata": {
        "colab": {
          "base_uri": "https://localhost:8080/"
        },
        "id": "9jb4FCuGJUVy",
        "outputId": "475543aa-630e-4f4f-c8b3-757ed988fa1e"
      },
      "outputs": [
        {
          "output_type": "execute_result",
          "data": {
            "text/plain": [
              "['Mercurio',\n",
              " 'Venus',\n",
              " 'Tierra',\n",
              " 'Marte',\n",
              " 'Jupiter',\n",
              " 'Saturno',\n",
              " 'Urano',\n",
              " 'Neptuno']"
            ]
          },
          "metadata": {},
          "execution_count": 13
        }
      ],
      "source": [
        "planets = ['Mercurio', 'Venus', 'Tierra', 'Marte', 'Jupiter', 'Saturno', 'Urano', 'Neptuno']\n",
        "planets"
      ]
    },
    {
      "cell_type": "code",
      "source": [
        "print('Numero de planetas: ', len(planets))\n",
        "planets.append('Pluton')\n",
        "print('Último elemento: ', planets[-1])"
      ],
      "metadata": {
        "colab": {
          "base_uri": "https://localhost:8080/"
        },
        "id": "UkjD3e2fJ3_y",
        "outputId": "b9fdc822-ec05-41f1-d5a4-2eda0bb0006d"
      },
      "execution_count": 15,
      "outputs": [
        {
          "output_type": "stream",
          "name": "stdout",
          "text": [
            "Numero de planetas:  9\n",
            "Último elemento:  Pluton\n"
          ]
        }
      ]
    },
    {
      "cell_type": "code",
      "source": [
        "planeta = input('Ingrese el nombre de un planeta: ')\n",
        "print('El planeta esta en el indice ', planets.index(planeta))\n",
        "print('Planetas mas cercanos al Sol que', planeta,': ', planets[0:planets.index(planeta)])\n",
        "print('Planetas más lejanos al sol que ', planeta, ': ', planets[planets.index(planeta)+1:])"
      ],
      "metadata": {
        "colab": {
          "base_uri": "https://localhost:8080/"
        },
        "id": "eKeVMTYzMBsl",
        "outputId": "f73f942c-afe6-4628-d157-f99723be276c"
      },
      "execution_count": 20,
      "outputs": [
        {
          "output_type": "stream",
          "name": "stdout",
          "text": [
            "Ingrese el nombre de un planeta: Marte\n",
            "El planeta esta en el indice  3\n",
            "Planetas mas cercanos al Sol que Marte :  ['Mercurio', 'Venus', 'Tierra']\n",
            "Planetas más lejanos al sol que  Marte :  ['Jupiter', 'Saturno', 'Urano', 'Neptuno', 'Pluton', 'Pluton']\n"
          ]
        }
      ]
    }
  ]
}